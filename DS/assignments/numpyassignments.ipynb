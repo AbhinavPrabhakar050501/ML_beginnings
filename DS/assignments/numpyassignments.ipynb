{
 "cells": [
  {
   "cell_type": "markdown",
   "metadata": {},
   "source": [
    "# Module: NumPy Assignments\n",
    "## Lesson: NumPy\n",
    "\n",
    "\n",
    "\n",
    "\n",
    "\n",
    "\n",
    "\n",
    "\n",
    "\n",
    "\n",
    "\n",
    "\n",
    "### Assignment 9: Structured Arrays\n",
    "\n",
    "1. Create a structured array with fields 'name' (string), 'age' (integer), and 'weight' (float). Add some data and sort the array by age.\n",
    "2. Create a structured array with fields 'x' and 'y' (both integers). Add some data and compute the Euclidean distance between each pair of points.\n",
    "\n",
    "### Assignment 10: Masked Arrays\n",
    "\n",
    "1. Create a masked array of shape (4, 4) with random integers and mask the elements greater than 10. Compute the sum of the unmasked elements.\n",
    "2. Create a masked array of shape (3, 3) with random integers and mask the diagonal elements. Replace the masked elements with the mean of the unmasked elements."
   ]
  },
  {
   "cell_type": "markdown",
   "id": "b80cc2b1",
   "metadata": {},
   "source": [
    "### Assignment 1: Array Creation and Manipulation\n",
    "\n",
    "1. Create a NumPy array of shape (5, 5) filled with random integers between 1 and 20. Replace all the elements in the third column with 1.\n",
    "2. Create a NumPy array of shape (4, 4) with values from 1 to 16. Replace the diagonal elements with 0."
   ]
  },
  {
   "cell_type": "code",
   "execution_count": null,
   "metadata": {},
   "outputs": [],
   "source": [
    "import numpy as np\n",
    "\n",
    "arr1 = np.random.randint(1,21,size=(5,5))\n",
    "arr1\n",
    "arr1[:, 2] = 1#need all the rows :, and that 2nd col need to be replaced 1\n",
    "arr1\n",
    "\n",
    "arr2 = np.arange(1,17).reshape(4,4)\n",
    "arr2\n",
    "np.fill_diagonal(arr2,0)\n",
    "arr2"
   ]
  },
  {
   "cell_type": "markdown",
   "id": "9853e9be",
   "metadata": {},
   "source": [
    "### Assignment 2: Array Indexing and Slicing\n",
    "\n",
    "1. Create a NumPy array of shape (6, 6) with values from 1 to 36. Extract the sub-array consisting of the 3rd to 5th rows and 2nd to 4th columns.\n",
    "2. Create a NumPy array of shape (5, 5) with random integers. Extract the elements on the border.\n"
   ]
  },
  {
   "cell_type": "code",
   "execution_count": null,
   "id": "cd284d80",
   "metadata": {},
   "outputs": [],
   "source": [
    "import numpy as np\n",
    "arr1 = np.arange(1,37).reshape(6,6)\n",
    "arr1[2:5,1:4]\n",
    "arr2 = np.random.randint(1,21,size = (5,5))#need range all the time\n",
    "\n",
    "#extract and add\n",
    "border_elements = np.concatenate((arr2[0,:],arr2[-1,:],arr2[1:-1,0],arr2[1:-1,-1]))\n",
    "border_elements\n"
   ]
  },
  {
   "cell_type": "markdown",
   "id": "48b4acb3",
   "metadata": {},
   "source": [
    "### Assignment 3: Array Operations\n",
    "\n",
    "1. Create two NumPy arrays of shape (3, 4) filled with random integers. Perform element-wise addition, subtraction, multiplication, and division.\n",
    "2. Create a NumPy array of shape (4, 4) with values from 1 to 16. Compute the row-wise and column-wise sum."
   ]
  },
  {
   "cell_type": "code",
   "execution_count": null,
   "id": "39619a70",
   "metadata": {},
   "outputs": [],
   "source": [
    "arr1 = np.random.randint(1,13,size=(3,4))\n",
    "arr2 = np.random.randint(1,13,size=(3,4))\n",
    "arr1+arr2\n",
    "arr1-arr2\n",
    "arr1*arr2\n",
    "arr1/arr2\n",
    "\n",
    "arr3 = np.arange(1,17).reshape(4,4)\n",
    "arr3.sum(axis=0)#col\n",
    "arr3.sum(axis=1)#row\n"
   ]
  },
  {
   "cell_type": "markdown",
   "id": "747c3c91",
   "metadata": {},
   "source": [
    "### Assignment 4: Statistical Operations\n",
    "\n",
    "1. Create a NumPy array of shape (5, 5) filled with random integers. Compute the mean, median, standard deviation, and variance of the array.\n",
    "2. Create a NumPy array of shape (3, 3) with values from 1 to 9. Normalize the array (i.e., scale the values to have a mean of 0 and a standard deviation of 1)."
   ]
  },
  {
   "cell_type": "code",
   "execution_count": null,
   "id": "1334d7be",
   "metadata": {},
   "outputs": [],
   "source": [
    "arr1 = np.random.randint(1,26,size=(5,5))\n",
    "arr1.mean()\n",
    "median = np.median(arr1)\n",
    "print(median)\n",
    "# arr1.std()\n",
    "print(arr1.var())\n",
    "\n",
    "arr2 = np.arange(1,10).reshape(3,3)\n",
    "mean = np.mean(arr2)\n",
    "std  = np.std(arr2)\n",
    "normalised_data = (arr2 - mean)/std\n",
    "print(normalised_data)"
   ]
  },
  {
   "cell_type": "markdown",
   "id": "ed7da295",
   "metadata": {},
   "source": [
    "\n",
    "### Assignment 5: Broadcasting\n",
    "\n",
    "1. Create a NumPy array of shape (3, 3) filled with random integers. Add a 1D array of shape (3,) to each row of the 2D array using broadcasting.\n",
    "2. Create a NumPy array of shape (4, 4) filled with random integers. Subtract a 1D array of shape (4,) from each column of the 2D array using broadcasting."
   ]
  },
  {
   "cell_type": "code",
   "execution_count": null,
   "id": "81fb6f3b",
   "metadata": {},
   "outputs": [],
   "source": [
    "arr1 = np.random.randint(1,13,size=(3,3))\n",
    "row_arr1 = np.random.randint(1,13,size=(3,))\n",
    "res = arr1 + row_arr1\n",
    "res\n",
    "# arr1 = np.random.randint(1,13,size=(4,4))\n",
    "# col_arr1 = np.random.randint(1,13,size=(4,))\n",
    "res = arr1 - col_arr1[:, np.newaxis]#for col operation\n",
    "res\n"
   ]
  },
  {
   "cell_type": "markdown",
   "id": "2c24825b",
   "metadata": {},
   "source": [
    "### Assignment 6: Linear Algebra\n",
    "\n",
    "1. Create a NumPy array of shape (3, 3) representing a matrix. Compute its determinant, inverse, and eigenvalues.\n",
    "2. Create two NumPy arrays of shape (2, 3) and (3, 2). Perform matrix multiplication on these arrays."
   ]
  },
  {
   "cell_type": "code",
   "execution_count": null,
   "id": "3b1b778e",
   "metadata": {},
   "outputs": [
    {
     "name": "stdout",
     "output_type": "stream",
     "text": [
      "[13.71323052  2.3538238  -3.06705432]\n",
      "[[22 21]\n",
      " [28 27]]\n"
     ]
    }
   ],
   "source": [
    "arr1 = np.arange(1,10).reshape(3,3)#causes singular matrix as determinant is zero so use random\n",
    "matrix = np.random.randint(1, 11, size=(3, 3)) #solves that error\n",
    "# arr1\n",
    "#Under linalg class\n",
    "\n",
    "np.linalg.det(matrix)\n",
    "np.linalg.inv(matrix)\n",
    "print((np.linalg.eig(matrix))[0])\n",
    "\n",
    "arr1 = np.random.randint(1, 7, size=(2, 3))\n",
    "arr2 = np.random.randint(1, 7, size=(3, 2))\n",
    "\n",
    "#matmul very imp operation\n",
    "matrix_mul = np.linalg.matmul(arr1,arr2)\n",
    "#OR np.dot for simpler but for complex Ndim array matmul\n",
    "print(matrix_mul)"
   ]
  },
  {
   "cell_type": "markdown",
   "id": "327344f8",
   "metadata": {},
   "source": [
    "\n",
    "### Assignment 7: Advanced Array Manipulation\n",
    "\n",
    "1. Create a NumPy array of shape (3, 3) with values from 1 to 9. Reshape the array to shape (1, 9) and then to shape (9, 1).\n",
    "2. Create a NumPy array of shape (5, 5) filled with random integers. Flatten the array and then reshape it back to (5, 5)."
   ]
  },
  {
   "cell_type": "code",
   "execution_count": 96,
   "id": "475e1d4e",
   "metadata": {},
   "outputs": [
    {
     "data": {
      "text/plain": [
       "array([[17, 13, 15, 12, 11],\n",
       "       [ 3, 15, 19, 18,  5],\n",
       "       [ 1, 16,  2,  7, 19],\n",
       "       [12, 11,  6, 16, 12],\n",
       "       [17, 13, 10, 10, 18]], dtype=int32)"
      ]
     },
     "execution_count": 96,
     "metadata": {},
     "output_type": "execute_result"
    }
   ],
   "source": [
    "arr1 = np.arange(1,10).reshape(3,3)\n",
    "arr1.reshape(1,9)\n",
    "arr1.reshape(9,1)\n",
    "\n",
    "arr1 = np.random.randint(1,20,size=(5,5))\n",
    "arr1.flatten()\n",
    "arr1.reshape(5,5)\n"
   ]
  },
  {
   "cell_type": "markdown",
   "id": "81b5c112",
   "metadata": {},
   "source": [
    "\n",
    "### Assignment 8: Fancy Indexing and Boolean Indexing\n",
    "\n",
    "1. Create a NumPy array of shape (5, 5) filled with random integers. Use fancy indexing to extract the elements at the corners of the array.\n",
    "2. Create a NumPy array of shape (4, 4) filled with random integers. Use boolean indexing to set all elements greater than 10 to 10."
   ]
  },
  {
   "cell_type": "code",
   "execution_count": null,
   "id": "943d27aa",
   "metadata": {},
   "outputs": [],
   "source": []
  }
 ],
 "metadata": {
  "kernelspec": {
   "display_name": "Python 3",
   "language": "python",
   "name": "python3"
  },
  "language_info": {
   "codemirror_mode": {
    "name": "ipython",
    "version": 3
   },
   "file_extension": ".py",
   "mimetype": "text/x-python",
   "name": "python",
   "nbconvert_exporter": "python",
   "pygments_lexer": "ipython3",
   "version": "3.10.0"
  }
 },
 "nbformat": 4,
 "nbformat_minor": 5
}
