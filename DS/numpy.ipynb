{
 "cells": [
  {
   "cell_type": "code",
   "execution_count": null,
   "id": "c432c007",
   "metadata": {},
   "outputs": [
    {
     "name": "stdout",
     "output_type": "stream",
     "text": [
      "arr2 shape: (3, 5)\n",
      "Number of dimensions (ndim): 2\n",
      "So, arr2 has 3 rows and 5 columns.\n"
     ]
    }
   ],
   "source": [
    "import numpy as np\n",
    "\n",
    "##create arrays using np\n",
    "\n",
    "arr1 = np.array([1,2,3,4,5])#not rows or cols just a single dimension array\n",
    "arr1.reshape(1,5) # 1 row and 5 cols 2d array\n",
    "# can use nested lists as well to create a 2d or 3d array\n",
    "arr2 = np.array([[1,2,3,4,5],[2,3,4,5,6],[0,0,0,0,0]])# 2 opening and closing brackets hence 2 dimensional array\n",
    "print(\"arr2 shape:\", arr2.shape)\n",
    "print(\"Number of dimensions (ndim):\", arr2.ndim)\n",
    "print(\"So, arr2 has\", arr2.shape[0], \"rows and\", arr2.shape[1], \"columns.\")\n",
    "\n",
    "# In numpy, \"2D\" means two axes (rows and columns), not \"2 rows\".\n",
    "# \"3D\" means three axes (e.g., layers, rows, columns), not \"3 rows\"."
   ]
  },
  {
   "cell_type": "code",
   "execution_count": null,
   "id": "d328affa",
   "metadata": {},
   "outputs": [
    {
     "data": {
      "text/plain": [
       "array([[0],\n",
       "       [2],\n",
       "       [4],\n",
       "       [6],\n",
       "       [8]])"
      ]
     },
     "execution_count": 17,
     "metadata": {},
     "output_type": "execute_result"
    }
   ],
   "source": [
    "# np.arange(0,10,2)\n",
    "np.arange(0,10,2).reshape(5,1) # convert to 1d, 2d ,3d "
   ]
  },
  {
   "cell_type": "code",
   "execution_count": 21,
   "id": "3b7199d3",
   "metadata": {},
   "outputs": [
    {
     "data": {
      "text/plain": [
       "array([[1., 1., 1., 1.],\n",
       "       [1., 1., 1., 1.],\n",
       "       [1., 1., 1., 1.]])"
      ]
     },
     "execution_count": 21,
     "metadata": {},
     "output_type": "execute_result"
    }
   ],
   "source": [
    "np.ones([3,4])"
   ]
  },
  {
   "cell_type": "code",
   "execution_count": 24,
   "id": "77fa1f78",
   "metadata": {},
   "outputs": [
    {
     "data": {
      "text/plain": [
       "array([[1., 0., 0., 0.],\n",
       "       [0., 1., 0., 0.],\n",
       "       [0., 0., 1., 0.],\n",
       "       [0., 0., 0., 1.]])"
      ]
     },
     "execution_count": 24,
     "metadata": {},
     "output_type": "execute_result"
    }
   ],
   "source": [
    "np.eye(4)"
   ]
  },
  {
   "cell_type": "code",
   "execution_count": null,
   "id": "1fe3c494",
   "metadata": {},
   "outputs": [
    {
     "data": {
      "text/plain": [
       "(3, 5)"
      ]
     },
     "execution_count": 26,
     "metadata": {},
     "output_type": "execute_result"
    }
   ],
   "source": [
    "arr2.ndim#dimensions \n",
    "arr2.shape#shape as in number of elements.\n",
    "arr2.dtype#data type int32 like that\n",
    "arr2.itemsize #(bytes)"
   ]
  },
  {
   "cell_type": "code",
   "execution_count": 29,
   "id": "c0eba734",
   "metadata": {},
   "outputs": [
    {
     "name": "stdout",
     "output_type": "stream",
     "text": [
      "Addition:\n",
      " [ 2  4  6  8 10]\n",
      "Subtraction:\n",
      " [0 0 0 0 0]\n",
      "Multiplication:\n",
      " [ 1  4  9 16 25]\n",
      "Division:\n",
      " [1. 1. 1. 1. 1.]\n",
      "Sine:\n",
      " [ 0.84147098  0.90929743  0.14112001 -0.7568025  -0.95892427]\n",
      "Exponential:\n",
      " [  2.71828183   7.3890561   20.08553692  54.59815003 148.4131591 ]\n",
      "Logarithm:\n",
      " [0.         0.69314718 1.09861229 1.38629436 1.60943791]\n"
     ]
    }
   ],
   "source": [
    "#few useful functions with matrices all works element wise\n",
    "arr1 = np.array([1,2,3,4,5])\n",
    "arr2 = np.array([1,2,3,4,5])\n",
    "\n",
    "print(\"Addition:\\n\", np.add(arr1, arr2))\n",
    "print(\"Subtraction:\\n\", np.subtract(arr1, arr2))\n",
    "print(\"Multiplication:\\n\", np.multiply(arr1, arr2))\n",
    "print(\"Division:\\n\", np.divide(arr1, arr2))\n",
    "\n",
    "print(\"Sine:\\n\", np.sin(arr1))\n",
    "print(\"Exponential:\\n\", np.exp(arr1))\n",
    "print(\"Logarithm:\\n\", np.log(arr1))\n",
    "\n",
    "\n"
   ]
  },
  {
   "cell_type": "code",
   "execution_count": 37,
   "id": "126a9f66",
   "metadata": {},
   "outputs": [],
   "source": [
    "arr = np.arange(1,13).reshape(3,4)"
   ]
  },
  {
   "cell_type": "code",
   "execution_count": 58,
   "id": "31c49542",
   "metadata": {},
   "outputs": [
    {
     "name": "stdout",
     "output_type": "stream",
     "text": [
      "[[3 4]\n",
      " [7 8]]\n",
      "[]\n",
      "[[ 6  7]\n",
      " [10 11]]\n"
     ]
    }
   ],
   "source": [
    "#slicing:\n",
    "print(arr[0:2,2:])# 0 - n-1 works [r,c]\n",
    "print(arr[0:2][2:]) # no works\n",
    "print(arr[1:,1:3]) "
   ]
  },
  {
   "cell_type": "code",
   "execution_count": 59,
   "id": "ebbb7fcb",
   "metadata": {},
   "outputs": [],
   "source": [
    "arr[0][0] = 100 #modifying values\n",
    "arr[2:] = 100"
   ]
  },
  {
   "cell_type": "code",
   "execution_count": 60,
   "id": "a720c72c",
   "metadata": {},
   "outputs": [
    {
     "name": "stdout",
     "output_type": "stream",
     "text": [
      "[[100   2   3   4]\n",
      " [  5   6   7   8]\n",
      " [100 100 100 100]]\n"
     ]
    }
   ],
   "source": [
    "print(arr)"
   ]
  },
  {
   "cell_type": "code",
   "execution_count": 62,
   "id": "5e0edb98",
   "metadata": {},
   "outputs": [
    {
     "name": "stdout",
     "output_type": "stream",
     "text": [
      "3.0\n",
      "Normalised data: \n",
      " [-1.41421356 -0.70710678  0.          0.70710678  1.41421356]\n"
     ]
    }
   ],
   "source": [
    "#statistic concept:\n",
    "# normalisation - to have mean as 0 and standard deviation as 1\n",
    "data = np.array([1,2,3,4,5])\n",
    "mean = np.mean(data)\n",
    "std  = np.std(data)\n",
    "normalised_data = (data - mean)/std\n",
    "print(mean)\n",
    "print(\"Normalised data: \\n\", normalised_data)\n",
    "\n",
    "#median variance\n",
    "# np.median\n",
    "# np.var"
   ]
  },
  {
   "cell_type": "code",
   "execution_count": 71,
   "id": "ab2dcad6",
   "metadata": {},
   "outputs": [
    {
     "data": {
      "text/plain": [
       "array([2])"
      ]
     },
     "execution_count": 71,
     "metadata": {},
     "output_type": "execute_result"
    }
   ],
   "source": [
    "#logical operations\n",
    "\n",
    "data>5\n",
    "data>1\n",
    "data[(data>1) & (data <3)]\n"
   ]
  },
  {
   "cell_type": "code",
   "execution_count": null,
   "id": "205f65a7",
   "metadata": {},
   "outputs": [],
   "source": []
  }
 ],
 "metadata": {
  "kernelspec": {
   "display_name": "Python 3",
   "language": "python",
   "name": "python3"
  },
  "language_info": {
   "codemirror_mode": {
    "name": "ipython",
    "version": 3
   },
   "file_extension": ".py",
   "mimetype": "text/x-python",
   "name": "python",
   "nbconvert_exporter": "python",
   "pygments_lexer": "ipython3",
   "version": "3.11.10"
  }
 },
 "nbformat": 4,
 "nbformat_minor": 5
}
