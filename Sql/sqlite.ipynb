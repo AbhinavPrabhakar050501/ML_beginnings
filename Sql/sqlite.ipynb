{
 "cells": [
  {
   "cell_type": "code",
   "execution_count": 2,
   "id": "2efe055a",
   "metadata": {},
   "outputs": [],
   "source": [
    "import sqlite3"
   ]
  },
  {
   "cell_type": "code",
   "execution_count": 4,
   "id": "f4ae344b",
   "metadata": {},
   "outputs": [],
   "source": [
    "#create a db locally\n",
    "connection = sqlite3.connect(\"example.db\")"
   ]
  },
  {
   "cell_type": "code",
   "execution_count": 5,
   "id": "6a3fb0c2",
   "metadata": {},
   "outputs": [],
   "source": [
    "#we need a cursor always to go around the db\n",
    "cursor = connection.cursor()"
   ]
  },
  {
   "cell_type": "code",
   "execution_count": null,
   "id": "f7873586",
   "metadata": {},
   "outputs": [],
   "source": [
    "#Primary key is a must, it will add a unique integer value if not assigned by user\n",
    "# not null to say that col should have a value\n",
    "cursor.execute('''\n",
    "    Create table If Not Exists employees(\n",
    "    id Integer Primary Key, \n",
    "    name Text Not Null,\n",
    "    age Integer,\n",
    "    department text\n",
    ")\n",
    "''')\n",
    "#Need to commit changes to the db to show\n",
    "connection.commit()"
   ]
  },
  {
   "cell_type": "code",
   "execution_count": 8,
   "id": "0100f84d",
   "metadata": {},
   "outputs": [
    {
     "data": {
      "text/plain": [
       "<sqlite3.Cursor at 0x23967fff440>"
      ]
     },
     "execution_count": 8,
     "metadata": {},
     "output_type": "execute_result"
    }
   ],
   "source": [
    "cursor.execute('''\n",
    "    Select * from employees\n",
    "''')"
   ]
  },
  {
   "cell_type": "code",
   "execution_count": 25,
   "id": "73b277e0",
   "metadata": {},
   "outputs": [],
   "source": [
    "##insert data\n",
    "cursor.execute('''\n",
    "Insert Into employees(name,age,department)\n",
    "               values(\"Ram\",34,\"IT\")\n",
    "\n",
    "''')\n",
    "connection.commit()"
   ]
  },
  {
   "cell_type": "code",
   "execution_count": 34,
   "id": "3ad44ce8",
   "metadata": {},
   "outputs": [
    {
     "name": "stdout",
     "output_type": "stream",
     "text": [
      "[(1, '2024-06-01', 'Laptop', 10, 'North'), (2, '2024-06-02', 'Tablet', 5, 'South'), (3, '2024-06-03', 'Phone', 15, 'East'), (4, '2024-06-04', 'Monitor', 7, 'West')]\n"
     ]
    }
   ],
   "source": [
    "cursor.execute('''\n",
    "    Select * from sales\n",
    "''')\n",
    "rows = cursor.fetchall()\n",
    "print(rows)"
   ]
  },
  {
   "cell_type": "code",
   "execution_count": 27,
   "id": "788fdb41",
   "metadata": {},
   "outputs": [
    {
     "data": {
      "text/plain": [
       "<sqlite3.Cursor at 0x23967fff440>"
      ]
     },
     "execution_count": 27,
     "metadata": {},
     "output_type": "execute_result"
    }
   ],
   "source": [
    "#update the table\n",
    "cursor.execute('''\n",
    "Update employees\n",
    "Set age=24\n",
    "where name=\"Ram\"          \n",
    "''')"
   ]
  },
  {
   "cell_type": "code",
   "execution_count": 29,
   "id": "c8803db7",
   "metadata": {},
   "outputs": [],
   "source": [
    "#delete\n",
    "cursor.execute('''\n",
    "Delete from employees\n",
    "               where name = 'Abhi'\n",
    "\n",
    "''')\n",
    "\n",
    "connection.commit()"
   ]
  },
  {
   "cell_type": "code",
   "execution_count": 37,
   "id": "f0237660",
   "metadata": {},
   "outputs": [],
   "source": [
    "\n",
    "connection.close()\n",
    "\n"
   ]
  },
  {
   "cell_type": "code",
   "execution_count": null,
   "id": "a7882668",
   "metadata": {},
   "outputs": [
    {
     "ename": "KeyboardInterrupt",
     "evalue": "",
     "output_type": "error",
     "traceback": [
      "\u001b[1;31m---------------------------------------------------------------------------\u001b[0m",
      "\u001b[1;31mOperationalError\u001b[0m                          Traceback (most recent call last)",
      "    \u001b[1;31m[... skipping hidden 1 frame]\u001b[0m\n",
      "Cell \u001b[1;32mIn [36], line 20\u001b[0m\n\u001b[0;32m     19\u001b[0m \u001b[38;5;66;03m#Execute many for adding n number of rows in the dataset instead of only one\u001b[39;00m\n\u001b[1;32m---> 20\u001b[0m \u001b[43mconnection\u001b[49m\u001b[38;5;241;43m.\u001b[39;49m\u001b[43mexecutemany\u001b[49m\u001b[43m(\u001b[49m\u001b[38;5;124;43m'''\u001b[39;49m\n\u001b[0;32m     21\u001b[0m \u001b[38;5;124;43mINSERT INTO sales (date, product, sales, region) VALUES (?, ?, ?,?)\u001b[39;49m\n\u001b[0;32m     22\u001b[0m \u001b[38;5;124;43m'''\u001b[39;49m\u001b[43m,\u001b[49m\u001b[43msales_data\u001b[49m\u001b[43m)\u001b[49m\n",
      "\u001b[1;31mOperationalError\u001b[0m: database is locked",
      "\nDuring handling of the above exception, another exception occurred:\n",
      "\u001b[1;31mKeyboardInterrupt\u001b[0m                         Traceback (most recent call last)",
      "\u001b[1;31mKeyboardInterrupt\u001b[0m: "
     ]
    }
   ],
   "source": [
    "\n",
    "##sales data\n",
    "connection = sqlite3.connect('sales_data.db')\n",
    "cursor = connection.cursor()\n",
    "cursor.execute('''\n",
    "Create table if not exists sales(\n",
    "    id integer primary key,\n",
    "               date text not null,\n",
    "               product text not null,\n",
    "               sales integer,\n",
    "               region text\n",
    "               \n",
    "               )\n",
    "\n",
    "''')\n",
    "sales_data = [('2024-06-01', 'Laptop', 10, 'North'),\n",
    "        ('2024-06-02', 'Tablet', 5, 'South'),\n",
    "        ('2024-06-03', 'Phone', 15, 'East'),\n",
    "        ('2024-06-04', 'Monitor', 7, 'West')]\n",
    "#Execute many for adding n number of rows in the dataset instead of only one\n",
    "connection.executemany('''\n",
    "INSERT INTO sales (date, product, sales, region) VALUES (?, ?, ?,?)\n",
    "''',sales_data)\n",
    "# --> 20 connection.execute('''\n",
    "#      21 INSERT INTO sales (date, product, sales, region) VALUES (?, ?, ?,?)\n",
    "#      22 ''',sales_data)\n",
    "\n",
    "# InterfaceError: Error binding parameter 0 - probably unsupported type."
   ]
  },
  {
   "cell_type": "code",
   "execution_count": null,
   "id": "a8960072",
   "metadata": {},
   "outputs": [],
   "source": []
  }
 ],
 "metadata": {
  "kernelspec": {
   "display_name": "Python 3",
   "language": "python",
   "name": "python3"
  },
  "language_info": {
   "codemirror_mode": {
    "name": "ipython",
    "version": 3
   },
   "file_extension": ".py",
   "mimetype": "text/x-python",
   "name": "python",
   "nbconvert_exporter": "python",
   "pygments_lexer": "ipython3",
   "version": "3.10.0"
  }
 },
 "nbformat": 4,
 "nbformat_minor": 5
}
