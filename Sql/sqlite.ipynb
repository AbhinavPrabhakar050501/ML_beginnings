{
 "cells": [
  {
   "cell_type": "code",
   "execution_count": 2,
   "id": "2efe055a",
   "metadata": {},
   "outputs": [],
   "source": [
    "import sqlite3"
   ]
  },
  {
   "cell_type": "code",
   "execution_count": 4,
   "id": "f4ae344b",
   "metadata": {},
   "outputs": [],
   "source": [
    "#create a db locally\n",
    "connection = sqlite3.connect(\"example.db\")"
   ]
  },
  {
   "cell_type": "code",
   "execution_count": 5,
   "id": "6a3fb0c2",
   "metadata": {},
   "outputs": [],
   "source": [
    "#we need a cursor always to go around the db\n",
    "cursor = connection.cursor()"
   ]
  },
  {
   "cell_type": "code",
   "execution_count": null,
   "id": "f7873586",
   "metadata": {},
   "outputs": [],
   "source": [
    "#Primary key is a must, it will add a unique integer value if not assigned by user\n",
    "# not null to say that col should have a value\n",
    "cursor.execute('''\n",
    "    Create table If Not Exists employees(\n",
    "    id Integer Primary Key, \n",
    "    name Text Not Null,\n",
    "    age Integer,\n",
    "    department text\n",
    ")\n",
    "''')\n",
    "#Need to commit changes to the db to show\n",
    "connection.commit()"
   ]
  },
  {
   "cell_type": "code",
   "execution_count": 8,
   "id": "0100f84d",
   "metadata": {},
   "outputs": [
    {
     "data": {
      "text/plain": [
       "<sqlite3.Cursor at 0x23967fff440>"
      ]
     },
     "execution_count": 8,
     "metadata": {},
     "output_type": "execute_result"
    }
   ],
   "source": [
    "cursor.execute('''\n",
    "    Select * from employees\n",
    "''')"
   ]
  },
  {
   "cell_type": "code",
   "execution_count": 25,
   "id": "73b277e0",
   "metadata": {},
   "outputs": [],
   "source": [
    "##insert data\n",
    "cursor.execute('''\n",
    "Insert Into employees(name,age,department)\n",
    "               values(\"Ram\",34,\"IT\")\n",
    "\n",
    "''')\n",
    "connection.commit()"
   ]
  },
  {
   "cell_type": "code",
   "execution_count": 28,
   "id": "3ad44ce8",
   "metadata": {},
   "outputs": [
    {
     "name": "stdout",
     "output_type": "stream",
     "text": [
      "[(1, 'Abhi', 24, 'IT'), (2, 'Abhi', 24, 'IT'), (3, 'Abhi', 24, 'IT'), (4, 'Abhi', 24, 'IT'), (5, 'Ram', 24, 'IT'), (6, 'Ram', 24, 'IT')]\n"
     ]
    }
   ],
   "source": [
    "cursor.execute('''\n",
    "    Select * from employees\n",
    "''')\n",
    "rows = cursor.fetchall()\n",
    "print(rows)"
   ]
  },
  {
   "cell_type": "code",
   "execution_count": 27,
   "id": "788fdb41",
   "metadata": {},
   "outputs": [
    {
     "data": {
      "text/plain": [
       "<sqlite3.Cursor at 0x23967fff440>"
      ]
     },
     "execution_count": 27,
     "metadata": {},
     "output_type": "execute_result"
    }
   ],
   "source": [
    "#update the table\n",
    "cursor.execute('''\n",
    "Update employees\n",
    "Set age=24\n",
    "where name=\"Ram\"          \n",
    "''')"
   ]
  },
  {
   "cell_type": "code",
   "execution_count": null,
   "id": "c8803db7",
   "metadata": {},
   "outputs": [],
   "source": [
    "#delete\n"
   ]
  },
  {
   "cell_type": "code",
   "execution_count": null,
   "id": "f0237660",
   "metadata": {},
   "outputs": [
    {
     "data": {
      "text/plain": [
       "[]"
      ]
     },
     "execution_count": 24,
     "metadata": {},
     "output_type": "execute_result"
    }
   ],
   "source": []
  },
  {
   "cell_type": "code",
   "execution_count": null,
   "id": "a7882668",
   "metadata": {},
   "outputs": [],
   "source": []
  }
 ],
 "metadata": {
  "kernelspec": {
   "display_name": "Python 3",
   "language": "python",
   "name": "python3"
  },
  "language_info": {
   "codemirror_mode": {
    "name": "ipython",
    "version": 3
   },
   "file_extension": ".py",
   "mimetype": "text/x-python",
   "name": "python",
   "nbconvert_exporter": "python",
   "pygments_lexer": "ipython3",
   "version": "3.10.0"
  }
 },
 "nbformat": 4,
 "nbformat_minor": 5
}
